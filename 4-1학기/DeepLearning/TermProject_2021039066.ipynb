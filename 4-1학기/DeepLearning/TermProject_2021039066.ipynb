{
 "cells": [
  {
   "cell_type": "code",
   "execution_count": 4,
   "id": "22fb2a71-ad5c-4d2c-aed5-f74e6ba41e12",
   "metadata": {},
   "outputs": [],
   "source": [
    "import numpy as np\n",
    "import cv2 as cv\n",
    "import tensorflow as tf\n",
    "import matplotlib.pyplot as plt\n",
    "import os"
   ]
  },
  {
   "cell_type": "code",
   "execution_count": 7,
   "id": "116e70cc-dfb2-49bc-9e45-5bd9832498c0",
   "metadata": {},
   "outputs": [],
   "source": [
    "def construct_fine():\n",
    "    f = open('fine_label_names_shuffle.txt', 'r')\n",
    "    class_names = []\n",
    "    for line in f.readlines():\n",
    "        class_names.append(line.strip())\n",
    "        \n",
    "    return class_names"
   ]
  },
  {
   "cell_type": "code",
   "execution_count": 11,
   "id": "53fe5986-6cf3-46fd-88f7-e039114ce56a",
   "metadata": {},
   "outputs": [
    {
     "ename": "FileNotFoundError",
     "evalue": "[Errno 2] No such file or directory: '/fine_label_names_shuffle.txt'",
     "output_type": "error",
     "traceback": [
      "\u001b[1;31m---------------------------------------------------------------------------\u001b[0m",
      "\u001b[1;31mFileNotFoundError\u001b[0m                         Traceback (most recent call last)",
      "Cell \u001b[1;32mIn[11], line 29\u001b[0m\n\u001b[0;32m     26\u001b[0m class_labels_file_path \u001b[38;5;241m=\u001b[39m \u001b[38;5;124m'\u001b[39m\u001b[38;5;124m/fine_label_names_shuffle.txt\u001b[39m\u001b[38;5;124m'\u001b[39m\n\u001b[0;32m     28\u001b[0m \u001b[38;5;66;03m# 클래스 매핑 로드\u001b[39;00m\n\u001b[1;32m---> 29\u001b[0m class_dict \u001b[38;5;241m=\u001b[39m load_class_labels(class_labels_file_path)\n\u001b[0;32m     31\u001b[0m \u001b[38;5;66;03m# 파일 이름을 사용하여 분류\u001b[39;00m\n\u001b[0;32m     32\u001b[0m classifications \u001b[38;5;241m=\u001b[39m classify_video_files(file_names, class_dict)\n",
      "Cell \u001b[1;32mIn[11], line 4\u001b[0m, in \u001b[0;36mload_class_labels\u001b[1;34m(file_path)\u001b[0m\n\u001b[0;32m      2\u001b[0m \u001b[38;5;28;01mdef\u001b[39;00m \u001b[38;5;21mload_class_labels\u001b[39m(file_path):\n\u001b[0;32m      3\u001b[0m     class_dict \u001b[38;5;241m=\u001b[39m {}\n\u001b[1;32m----> 4\u001b[0m     \u001b[38;5;28;01mwith\u001b[39;00m \u001b[38;5;28mopen\u001b[39m(file_path, \u001b[38;5;124m'\u001b[39m\u001b[38;5;124mr\u001b[39m\u001b[38;5;124m'\u001b[39m) \u001b[38;5;28;01mas\u001b[39;00m file:\n\u001b[0;32m      5\u001b[0m         \u001b[38;5;28;01mfor\u001b[39;00m line \u001b[38;5;129;01min\u001b[39;00m file:\n\u001b[0;32m      6\u001b[0m             \u001b[38;5;28;01mif\u001b[39;00m line\u001b[38;5;241m.\u001b[39mstrip():  \u001b[38;5;66;03m# 빈 줄 무시\u001b[39;00m\n",
      "File \u001b[1;32m~\\anaconda3\\Lib\\site-packages\\IPython\\core\\interactiveshell.py:310\u001b[0m, in \u001b[0;36m_modified_open\u001b[1;34m(file, *args, **kwargs)\u001b[0m\n\u001b[0;32m    303\u001b[0m \u001b[38;5;28;01mif\u001b[39;00m file \u001b[38;5;129;01min\u001b[39;00m {\u001b[38;5;241m0\u001b[39m, \u001b[38;5;241m1\u001b[39m, \u001b[38;5;241m2\u001b[39m}:\n\u001b[0;32m    304\u001b[0m     \u001b[38;5;28;01mraise\u001b[39;00m \u001b[38;5;167;01mValueError\u001b[39;00m(\n\u001b[0;32m    305\u001b[0m         \u001b[38;5;124mf\u001b[39m\u001b[38;5;124m\"\u001b[39m\u001b[38;5;124mIPython won\u001b[39m\u001b[38;5;124m'\u001b[39m\u001b[38;5;124mt let you open fd=\u001b[39m\u001b[38;5;132;01m{\u001b[39;00mfile\u001b[38;5;132;01m}\u001b[39;00m\u001b[38;5;124m by default \u001b[39m\u001b[38;5;124m\"\u001b[39m\n\u001b[0;32m    306\u001b[0m         \u001b[38;5;124m\"\u001b[39m\u001b[38;5;124mas it is likely to crash IPython. If you know what you are doing, \u001b[39m\u001b[38;5;124m\"\u001b[39m\n\u001b[0;32m    307\u001b[0m         \u001b[38;5;124m\"\u001b[39m\u001b[38;5;124myou can use builtins\u001b[39m\u001b[38;5;124m'\u001b[39m\u001b[38;5;124m open.\u001b[39m\u001b[38;5;124m\"\u001b[39m\n\u001b[0;32m    308\u001b[0m     )\n\u001b[1;32m--> 310\u001b[0m \u001b[38;5;28;01mreturn\u001b[39;00m io_open(file, \u001b[38;5;241m*\u001b[39margs, \u001b[38;5;241m*\u001b[39m\u001b[38;5;241m*\u001b[39mkwargs)\n",
      "\u001b[1;31mFileNotFoundError\u001b[0m: [Errno 2] No such file or directory: '/fine_label_names_shuffle.txt'"
     ]
    }
   ],
   "source": [
    "# fine_label_names_shuffle.txt 파일을 읽어 각 클래스 번호와 클래스 이름을 매핑\n",
    "def load_class_labels(file_path):\n",
    "    class_dict = {}\n",
    "    with open(file_path, 'r') as file:\n",
    "        for line in file:\n",
    "            if line.strip():  # 빈 줄 무시\n",
    "                class_number, class_name = line.strip().split(\", \")\n",
    "                class_number = int(class_number.split(\" = \")[1])\n",
    "                class_name = class_name.split(\" = \")[1]\n",
    "                class_dict[class_number] = class_name\n",
    "    return class_dict\n",
    "\n",
    "# 파일 이름에서 클래스를 추출하여 분류하는 함수\n",
    "def classify_video_files(file_names, class_dict):\n",
    "    classifications = {}\n",
    "    for file_name in file_names:\n",
    "        class_number = int(file_name.split('_')[0])  # 예: '0_video1.mp4'에서 '0' 추출\n",
    "        class_name = class_dict.get(class_number, \"Unknown\")\n",
    "        classifications[file_name] = class_name\n",
    "    return classifications\n",
    "\n",
    "# 파일 이름 리스트\n",
    "file_names = [\"0_mountain.png\", \"1_forest.png\", \"2_seal.png\", \"3_mushroom.png\"]\n",
    "\n",
    "# 클래스 매핑 파일 경로\n",
    "class_labels_file_path = 'fine_label_names_shuffle.txt'\n",
    "\n",
    "# 클래스 매핑 로드\n",
    "class_dict = load_class_labels(class_labels_file_path)\n",
    "\n",
    "# 파일 이름을 사용하여 분류\n",
    "classifications = classify_video_files(file_names, class_dict)\n",
    "\n",
    "# 결과 출력\n",
    "for file_name, class_name in classifications.items():\n",
    "    print(f\"{file_name} is classified as {class_name}\")"
   ]
  },
  {
   "cell_type": "code",
   "execution_count": null,
   "id": "6d860e76-36fb-458c-8660-40c24d1bc920",
   "metadata": {},
   "outputs": [],
   "source": [
    "\n",
    "classes = []\n",
    "X = []\n",
    "Y = []\n",
    " \n",
    "#이미지 파일에서 category 파악\n",
    "kaggle_data_set = os.listdir(data_file_path)\n",
    "for data in os.listdir(data_file_path):\n",
    "    if data.split('.')[0] not in categories:\n",
    "        categories.append(data.split('.')[0])\n",
    " \n",
    "num_classes = len(categories)   \n",
    " \n",
    " \n",
    "print(categories)\n",
    "print(num_classes)\n",
    " \n",
    "#class 별로 이미지 데이터와 label 매칭\n",
    "for i, cate in enumerate(categories):\n",
    "    label = [0 for i in range(num_classes)]\n",
    "    print(i, cate)\n",
    "    \n",
    "    for top, dir, f in os.walk(data_file_path):\n",
    "        for filename in f:\n",
    "            if cate in filename:\n",
    "                label[i] = '1'\n",
    "                \n",
    "                img = cv2.imread(data_file_path+filename)\n",
    "                X.append(img/255.)\n",
    "                Y.append(label)\n",
    "                \n",
    "                print(data_file_path + filename)\n",
    "                print(cate)"
   ]
  }
 ],
 "metadata": {
  "kernelspec": {
   "display_name": "Python 3 (ipykernel)",
   "language": "python",
   "name": "python3"
  },
  "language_info": {
   "codemirror_mode": {
    "name": "ipython",
    "version": 3
   },
   "file_extension": ".py",
   "mimetype": "text/x-python",
   "name": "python",
   "nbconvert_exporter": "python",
   "pygments_lexer": "ipython3",
   "version": "3.11.7"
  }
 },
 "nbformat": 4,
 "nbformat_minor": 5
}
